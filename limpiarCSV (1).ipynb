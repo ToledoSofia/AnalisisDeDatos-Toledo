{
  "nbformat": 4,
  "nbformat_minor": 0,
  "metadata": {
    "colab": {
      "provenance": []
    },
    "kernelspec": {
      "name": "python3",
      "display_name": "Python 3"
    },
    "language_info": {
      "name": "python"
    }
  },
  "cells": [
    {
      "cell_type": "markdown",
      "source": [
        "El csv es sobre los musicos más escuchados."
      ],
      "metadata": {
        "id": "Bv87Yf-YOMVP"
      }
    },
    {
      "cell_type": "code",
      "execution_count": 40,
      "metadata": {
        "colab": {
          "base_uri": "https://localhost:8080/"
        },
        "id": "kMOcNZQczT47",
        "outputId": "1f64e524-97bb-44ff-b513-a61bf93a9669"
      },
      "outputs": [
        {
          "output_type": "stream",
          "name": "stdout",
          "text": [
            "              Artist  Country Period Active    Year  \\\n",
            "1      Elvis Presley      USA     1954–1977  1956.0   \n",
            "2    Michael Jackson      USA     1964–2009  1971.0   \n",
            "3         Elton John       UK  1964–present  1970.0   \n",
            "4              Queen       UK  1971–present  1973.0   \n",
            "5            Madonna      USA  1979–present  1983.0   \n",
            "..               ...      ...           ...     ...   \n",
            "107       Bob Marley  Jamaica     1962–1981  1975.0   \n",
            "108   Gloria Estefan      USA  1975–present  1984.0   \n",
            "109    Barry Manilow      USA  1973–present  1973.0   \n",
            "110             Kiss      USA  1972–present  1974.0   \n",
            "111  Aretha Franklin      USA     1956–2018  1961.0   \n",
            "\n",
            "                               Genre      TCU  Sales  \n",
            "1               rock / pop / country  231.3 M  500 M  \n",
            "2    pop / rock / dance / soul / r&b  277.3 M  400 M  \n",
            "3                         pop / rock  208.0 M  300 M  \n",
            "4                               rock  184.0 M  300 M  \n",
            "5          pop / dance / electronica  181.8 M  300 M  \n",
            "..                               ...      ...    ...  \n",
            "107                           reggae   46.3 M   75 M  \n",
            "108            latin pop / dance pop   37.6 M   75 M  \n",
            "109                  pop / soft rock   36.7 M   75 M  \n",
            "110          hard rock / heavy metal   28.7 M   75 M  \n",
            "111        soul / jazz / blues / r&b   26.6 M   75 M  \n",
            "\n",
            "[110 rows x 7 columns]\n"
          ]
        }
      ],
      "source": [
        "import pandas as pd   #importamos la libreria pandas para poder leer el csv\n",
        "import numpy as np\n",
        "\n",
        "\n",
        "\n",
        "def cambiarPaises(valor):\n",
        "    valor = str(valor)\n",
        "    if valor == \"United States\":\n",
        "      valor = \"USA\"\n",
        "    if valor == \"United Kingdom\":\n",
        "      valor = \"UK\"\n",
        "    return valor\n",
        "\n",
        "\n",
        "def cambiarMillones(valor):\n",
        "    valor = str(valor)\n",
        "    valor = valor.replace(\"million\",\"M\")\n",
        "    valor = valor.replace(\"mill\",\"M\")\n",
        "    return valor\n",
        "\n",
        "\n",
        "def unDecimal(valor):\n",
        "    valor = str(valor)\n",
        "    num = round(float(valor.split(' ')[0]),1)\n",
        "    valor = str(num) + \" \" + valor.split(' ')[1]\n",
        "    return valor\n",
        "\n",
        "\n",
        "def minusculasYRock(valor):\n",
        "    valor = str(valor)\n",
        "    if \"and roll\" in valor:\n",
        "      valor = valor.replace(\"Rock and roll\", \"rock\")\n",
        "    return valor.lower()\n",
        "\n",
        "\n",
        "\n",
        "\n",
        "csv = pd.read_csv(\"./sample_data/best_selling_artists.csv\")\n",
        "csvColumnas = list(csv.columns)\n",
        "csv.dropna(inplace=True) # elimina las filas que contengan valores vacios\n",
        "\n",
        "\n",
        "csv.columns = arreglar_columnas(csvColumnas) # se le aplica la funcion a la lista de columnas\n",
        "\n",
        "\n",
        "#csv = csv.applymap(resolver_espacios)\n",
        "\n",
        "\n",
        "\n",
        "csv[\"Country\"] = csv[\"Country\"].apply(cambiarPaises)\n",
        " # reemplaza united states por USA y united kingdom por UK\n",
        "\n",
        "csv[\"Sales\"] = csv[\"Sales\"].apply(cambiarMillones)\n",
        " # reemplada \"millions\" por M\n",
        "\n",
        "csv[\"TCU\"] = csv[\"TCU\"].apply(cambiarMillones)\n",
        "csv[\"TCU\"] = csv[\"TCU\"].apply(unDecimal)\n",
        "\n",
        "csv[\"Genre\"] = csv[\"Genre\"].apply(minusculasYRock)\n",
        "# escribe todos los valores en minusculas y reemplaza \"rock and roll\" por rock\n",
        "\n",
        "csv.to_csv('./nuevo.csv')\n",
        "print(csv)\n",
        "\n",
        "\n",
        "\n",
        "\n",
        "\n",
        "\n",
        "\n",
        "\n",
        "\n",
        "\n",
        "\n",
        "\n",
        "\n",
        "\n",
        "\n",
        "\n"
      ]
    },
    {
      "cell_type": "markdown",
      "source": [],
      "metadata": {
        "id": "3NtyVhb_0oTI"
      }
    }
  ]
}